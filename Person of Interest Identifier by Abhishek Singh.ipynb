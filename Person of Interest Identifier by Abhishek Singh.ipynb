{
 "cells": [
  {
   "cell_type": "markdown",
   "metadata": {},
   "source": [
    "#                                     **Person of Interest Identifier**\n",
    "This project is based on the [Enron scandal](https://en.wikipedia.org/wiki/Enron_scandal) of 2001, the data used here is the \n",
    "email and financial data of enron which was made public and can be found [here](https://www.cs.cmu.edu/~./enron/enron_mail_20150507.tar.gz).\n",
    "Here we identify people from the numerous enron employees which can be considered\n",
    "as 'person of interest (poi)' i.e. who may have a hand in the scandal. The data has\n",
    "handpicked people classified as poi which were convicted in reality. We use a supervised\n",
    "learning approach to build our poi identifier. "
   ]
  },
  {
   "cell_type": "markdown",
   "metadata": {},
   "source": [
    "#### We begin by first importing the required packages. Here we mainly work with the scikit-learn package. "
   ]
  },
  {
   "cell_type": "code",
   "execution_count": 1,
   "metadata": {},
   "outputs": [
    {
     "name": "stderr",
     "output_type": "stream",
     "text": [
      "C:\\Users\\abhis\\Anaconda3\\lib\\site-packages\\sklearn\\cross_validation.py:41: DeprecationWarning: This module was deprecated in version 0.18 in favor of the model_selection module into which all the refactored classes and functions are moved. Also note that the interface of the new CV iterators are different from that of this module. This module will be removed in 0.20.\n",
      "  \"This module will be removed in 0.20.\", DeprecationWarning)\n"
     ]
    }
   ],
   "source": [
    "import os\n",
    "import sys\n",
    "import pickle\n",
    "from feature_format import featureFormat, targetFeatureSplit\n",
    "from tester import dump_classifier_and_data,test_classifier\n",
    "from sklearn.cross_validation import train_test_split\n",
    "from sklearn.decomposition import PCA\n",
    "from sklearn.feature_selection import SelectKBest\n",
    "from sklearn.naive_bayes import GaussianNB\n",
    "from sklearn.svm import SVC\n",
    "from sklearn.ensemble import RandomForestClassifier\n",
    "from sklearn.model_selection import GridSearchCV\n",
    "import matplotlib.pyplot as plt"
   ]
  },
  {
   "cell_type": "markdown",
   "metadata": {},
   "source": [
    "#### Next we load our dataset."
   ]
  },
  {
   "cell_type": "code",
   "execution_count": 2,
   "metadata": {},
   "outputs": [],
   "source": [
    "with open(\"final_project_dataset.pkl\", \"rb\") as data_file:\n",
    "    data_dict = pickle.load(data_file)\n",
    "my_dataset = data_dict"
   ]
  },
  {
   "cell_type": "markdown",
   "metadata": {},
   "source": [
    "#### Initially we start with all the features in our data however these may contain noise and give a poor accuracy which will be optimized later. Further we extract the features and labels from this data for analysis. Finally we split these in training and testing data for our model."
   ]
  },
  {
   "cell_type": "code",
   "execution_count": 3,
   "metadata": {},
   "outputs": [
    {
     "name": "stdout",
     "output_type": "stream",
     "text": [
      "(145, 15)\n"
     ]
    }
   ],
   "source": [
    "features_list = ['poi','salary', 'deferral_payments', 'total_payments', \n",
    "                 'loan_advances', 'bonus', 'restricted_stock_deferred', \n",
    "                 'deferred_income', 'total_stock_value', 'expenses', \n",
    "                 'exercised_stock_options', 'other', 'long_term_incentive', \n",
    "                 'restricted_stock', 'director_fees'] \n",
    "\n",
    "data = featureFormat(my_dataset, features_list, sort_keys = True)\n",
    "print(data.shape)\n",
    "labels, features = targetFeatureSplit(data)\n",
    "\n",
    "features_train, features_test, labels_train, labels_test = train_test_split(features, labels, test_size=0.3, random_state=42)"
   ]
  },
  {
   "cell_type": "markdown",
   "metadata": {},
   "source": [
    "#### To get an initial look at our validation figures we use the simple Naive Bayes classifier without any preprocessing.  We use a test_classifier function which evaluates and displays evaluation metrics."
   ]
  },
  {
   "cell_type": "code",
   "execution_count": 4,
   "metadata": {},
   "outputs": [
    {
     "name": "stdout",
     "output_type": "stream",
     "text": [
      "GaussianNB(priors=None)\n",
      "\tAccuracy: 0.37753\tPrecision: 0.15641\tRecall: 0.83500\tF1: 0.26347\tF2: 0.44707\n",
      "\tTotal predictions: 15000\tTrue positives: 1670\tFalse positives: 9007\tFalse negatives:  330\tTrue negatives: 3993\n",
      "\n"
     ]
    }
   ],
   "source": [
    "clf = GaussianNB()\n",
    "clf.fit(features_train,labels_train)\n",
    "test_classifier(clf,data_dict,features_list)"
   ]
  },
  {
   "cell_type": "markdown",
   "metadata": {},
   "source": [
    "#### As we can see we get a fairly low accuracy and recall score owing to the many features contributing as noise. Our first step towards improving these would be using Principal Component Analysis in which the components with maximum variance can be selected while others can be dropped."
   ]
  },
  {
   "cell_type": "code",
   "execution_count": 5,
   "metadata": {},
   "outputs": [
    {
     "name": "stdout",
     "output_type": "stream",
     "text": [
      "(145, 15)\n",
      "(145, 12)\n"
     ]
    }
   ],
   "source": [
    "num = 12 #This can be tuned to select different number of principal components\n",
    "print(data.shape)\n",
    "pca = PCA(n_components = num)\n",
    "pca.fit(data)\n",
    "dat = pca.transform(data)\n",
    "print(dat.shape)"
   ]
  },
  {
   "cell_type": "markdown",
   "metadata": {},
   "source": [
    "#### To further augment our selection we use feature selection. Here we use SelectKBest which selects the 'K' best features which explain the data."
   ]
  },
  {
   "cell_type": "code",
   "execution_count": 6,
   "metadata": {},
   "outputs": [
    {
     "name": "stdout",
     "output_type": "stream",
     "text": [
      "['loan_advances', 'bonus', 'restricted_stock_deferred', 'deferred_income', 'total_stock_value', 'expenses', 'exercised_stock_options']\n"
     ]
    }
   ],
   "source": [
    "import warnings \n",
    "warnings.filterwarnings('ignore') #so that warnings aren't printed\n",
    "\n",
    "labels, features = targetFeatureSplit(dat)\n",
    "features_train, features_test, labels_train, labels_test = train_test_split(features, labels, test_size=0.3, random_state=42)\n",
    "\n",
    "selector = SelectKBest(k=7) #To limit the number of features to seven (i.e. approximately half)\n",
    "features_train = selector.fit_transform(features_train,labels_train)\n",
    "\n",
    "mask = selector.get_support() \n",
    "new_features = [] \n",
    "#Here we printout our K best features\n",
    "for bool, feature in zip(mask, features_list):\n",
    "    if bool:\n",
    "        new_features.append(feature)\n",
    "print(new_features)"
   ]
  },
  {
   "cell_type": "markdown",
   "metadata": {},
   "source": [
    "#### Other reasons for poor performance can be Outliers present in the data. This can be investigated by using visualization of our data."
   ]
  },
  {
   "cell_type": "code",
   "execution_count": 7,
   "metadata": {},
   "outputs": [
    {
     "data": {
      "image/png": "[encoded data removed]",
      "text/plain": [
       "<Figure size 432x288 with 1 Axes>"
      ]
     },
     "metadata": {},
     "output_type": "display_data"
    }
   ],
   "source": [
    "with open(\"final_project_dataset.pkl\", \"rb\") as data_file:\n",
    "    data_dict = pickle.load(data_file)\n",
    "features_list = ['bonus','salary'] #Here we choose bonus & salary for visualization\n",
    "data = featureFormat(data_dict,features_list)\n",
    "\n",
    "for point in data:\n",
    "    bonus = point[0]\n",
    "    salary = point[1]\n",
    "    plt.scatter(bonus,salary)\n",
    "plt.xlabel('Bonus')\n",
    "plt.ylabel('Salary')\n",
    "plt.show()"
   ]
  },
  {
   "cell_type": "markdown",
   "metadata": {},
   "source": [
    "#### We see the presence of a clear outlier in the data which has been hampering our results. We remove this from our original data and proceed with our analysis."
   ]
  },
  {
   "cell_type": "code",
   "execution_count": 8,
   "metadata": {},
   "outputs": [
    {
     "name": "stdout",
     "output_type": "stream",
     "text": [
      "Outlier present is  TOTAL\n"
     ]
    }
   ],
   "source": [
    "#To detect the outlier:\n",
    "for i in data_dict:\n",
    "    if (data_dict[i]['salary'] != \"NaN\") & (data_dict[i]['bonus'] != \"NaN\"):    \n",
    "        if (data_dict[i]['salary'] >= 5000000) & (data_dict[i]['bonus'] >= 5000000):\n",
    "            print(\"Outlier present is \",i)\n"
   ]
  },
  {
   "cell_type": "markdown",
   "metadata": {},
   "source": [
    "#### The outlier was actually the total row with total figures for all the enron employees. We now remove this for further analysis.  "
   ]
  },
  {
   "cell_type": "code",
   "execution_count": 9,
   "metadata": {},
   "outputs": [],
   "source": [
    "with open(\"final_project_dataset.pkl\", \"rb\") as data_file:\n",
    "    data_dict = pickle.load(data_file)\n",
    "data_dict.pop('TOTAL') #Outlier removal\n",
    "my_dataset = data_dict\n",
    "features_list = ['poi','loan_advances', 'bonus', 'restricted_stock_deferred', \n",
    "                 'deferred_income', 'total_stock_value', 'expenses', 'exercised_stock_options'] #New feature list\n",
    "\n",
    "data = featureFormat(my_dataset, features_list, sort_keys = True)"
   ]
  },
  {
   "cell_type": "markdown",
   "metadata": {},
   "source": [
    "#### The next classifier we intend to try is SVM. However, SVMs in general are affected by different ranges of the features and may result in output being dominated by a single feature. To overcome this issue we perform feature scaling, in which we first scale our features to an uniform scale of [0,1]."
   ]
  },
  {
   "cell_type": "code",
   "execution_count": 10,
   "metadata": {},
   "outputs": [
    {
     "name": "stdout",
     "output_type": "stream",
     "text": [
      "Before scaling =  -126027.0\n",
      "After scaling =  0.09634567351381695\n"
     ]
    }
   ],
   "source": [
    "print('Before scaling = ',data[0,3])\n",
    "from sklearn.preprocessing import MinMaxScaler\n",
    "scaler = MinMaxScaler()\n",
    "scaler.fit(data)\n",
    "scaled_data = scaler.transform(data)\n",
    "print('After scaling = ',scaled_data[0,3]) #Example showing feature scaling effect\n",
    "labels, features = targetFeatureSplit(scaled_data)\n",
    "\n",
    "features_train, features_test, labels_train, labels_test = train_test_split(features, labels, test_size=0.3, random_state=42)"
   ]
  },
  {
   "cell_type": "markdown",
   "metadata": {},
   "source": [
    "#### Now we build our SVM classifier and train it on our data."
   ]
  },
  {
   "cell_type": "code",
   "execution_count": 11,
   "metadata": {},
   "outputs": [
    {
     "name": "stdout",
     "output_type": "stream",
     "text": [
      "Got a divide by zero when trying out: SVC(C=1.0, cache_size=200, class_weight=None, coef0=0.0,\n",
      "  decision_function_shape='ovr', degree=3, gamma='auto', kernel='rbf',\n",
      "  max_iter=-1, probability=False, random_state=None, shrinking=True,\n",
      "  tol=0.001, verbose=False)\n",
      "Precision or recall may be undefined due to a lack of true positive predicitons.\n"
     ]
    }
   ],
   "source": [
    "clf = SVC()\n",
    "clf.fit(features_train,labels_train)\n",
    "test_classifier(clf,data_dict,features_list)"
   ]
  },
  {
   "cell_type": "markdown",
   "metadata": {},
   "source": [
    "#### The result from the SVM classifier show that it doesn't perform well here as the number of true positives is very less. "
   ]
  },
  {
   "cell_type": "markdown",
   "metadata": {},
   "source": [
    "#### Next we try out the Random Forest algorithm with a different approach. Here we use GridSearch technique to find parameters which yield the best performance for our classifier."
   ]
  },
  {
   "cell_type": "code",
   "execution_count": 12,
   "metadata": {},
   "outputs": [
    {
     "name": "stdout",
     "output_type": "stream",
     "text": [
      "{'max_features': 'log2', 'n_estimators': 100}\n"
     ]
    }
   ],
   "source": [
    "labels, features = targetFeatureSplit(data)\n",
    "features_train, features_test, labels_train, labels_test = train_test_split(features, labels, test_size=0.3, random_state=42)\n",
    "\n",
    "rfc = RandomForestClassifier()\n",
    "parameters = {'n_estimators':[10,50,100], 'max_features':('auto','log2')}\n",
    "clf = GridSearchCV(rfc,parameters)\n",
    "clf.fit(features_train,labels_train)\n",
    "print(clf.best_params_)"
   ]
  },
  {
   "cell_type": "markdown",
   "metadata": {},
   "source": [
    "#### The above parameters are tested seperately below as test_classifier doesn't work well with GridSearchCV. "
   ]
  },
  {
   "cell_type": "code",
   "execution_count": 13,
   "metadata": {},
   "outputs": [
    {
     "name": "stdout",
     "output_type": "stream",
     "text": [
      "RandomForestClassifier(bootstrap=True, class_weight=None, criterion='gini',\n",
      "            max_depth=None, max_features='log2', max_leaf_nodes=None,\n",
      "            min_impurity_decrease=0.0, min_impurity_split=None,\n",
      "            min_samples_leaf=1, min_samples_split=2,\n",
      "            min_weight_fraction_leaf=0.0, n_estimators=50, n_jobs=1,\n",
      "            oob_score=False, random_state=None, verbose=0,\n",
      "            warm_start=False)\n",
      "\tAccuracy: 0.87021\tPrecision: 0.60292\tRecall: 0.26800\tF1: 0.37106\tF2: 0.30150\n",
      "\tTotal predictions: 14000\tTrue positives:  536\tFalse positives:  353\tFalse negatives: 1464\tTrue negatives: 11647\n",
      "\n"
     ]
    }
   ],
   "source": [
    "clf = RandomForestClassifier(n_estimators=50,max_features='log2')\n",
    "clf.fit(features_train,labels_train)\n",
    "test_classifier(clf,data_dict,features_list)"
   ]
  },
  {
   "cell_type": "markdown",
   "metadata": {},
   "source": [
    "#### The result shows that this classifier performs fairly well, which can be clearly seen from the above scores. A huge reason for this is here we perform parameter tunning by testing different parameters and selecting the best ones. Changing parameters changes the performance of the classifier and can have impactful effects on its performance.\n",
    "#### Speaking about the evaluation metrics, creating a classifier has no meaning until its performace is tested on data other than the data on which it was trained. This is called as validation, the train_test_split we have been performing, splits the data for training and testing for this purpose.\n",
    "#### We obviously cannot rely on accuracy as a sole measure as it can be doctored easily by skewness present in our data. Hence we use a variety of metrics with accuracy to evaluate our classifier. The precision shows how well the classifier predicts a person of interest i.e. how well the classifer identifies a person as a poi and it is correct. On the other hand recall shows the fraction of total true cases, i.e. the probability of the classifier detecting a poi provided it is actually a poi."
   ]
  },
  {
   "cell_type": "markdown",
   "metadata": {},
   "source": [
    "#### Finally, another approach that is often used is creating new features out of the existing features that may help contribute towards the classification. Looking at our features, here we design a new feature called 'savings' which will be the net amout with a person including their salary and bonus and after excluding their expenses, this residual amount with a person can help in identifying their financial status which in this sense could mean their involvement in the fraud."
   ]
  },
  {
   "cell_type": "code",
   "execution_count": 14,
   "metadata": {},
   "outputs": [],
   "source": [
    "with open(\"final_project_dataset.pkl\", \"rb\") as data_file:\n",
    "    data_dict = pickle.load(data_file)\n",
    "#New feature 'savings' created as follows\n",
    "for key,i in data_dict.items():\n",
    "    if i['salary']=='NaN':\n",
    "        i['salary']=0\n",
    "    if i['bonus']=='NaN':\n",
    "        i['bonus']=0\n",
    "    if i['expenses']=='NaN':\n",
    "        i['expenses']=0\n",
    "    i['savings'] = i['salary']+i['bonus']-i['expenses']\n",
    "data_dict.pop('TOTAL') #Outlier removal\n",
    "my_dataset = data_dict\n",
    "#Our feature list this time will contain our new feature which will replace the two features it utilized \n",
    "features_list = ['poi','loan_advances', 'restricted_stock_deferred', \n",
    "                 'deferred_income', 'total_stock_value', 'savings', \n",
    "                 'exercised_stock_options'] \n",
    "data = featureFormat(my_dataset, features_list, sort_keys = True)\n",
    "labels, features = targetFeatureSplit(data)\n",
    "features_train, features_test, labels_train, labels_test = train_test_split(features, labels, test_size=0.3, random_state=42)"
   ]
  },
  {
   "cell_type": "markdown",
   "metadata": {},
   "source": [
    "#### We next validate this new feature with our classifier and observe minor improvemets in accuracy. \n",
    "#### However when using our new feature list with the earlier Naive Bayes classifier, improvements in classification are clearly visible."
   ]
  },
  {
   "cell_type": "code",
   "execution_count": 15,
   "metadata": {},
   "outputs": [
    {
     "name": "stdout",
     "output_type": "stream",
     "text": [
      "RandomForestClassifier(bootstrap=True, class_weight=None, criterion='gini',\n",
      "            max_depth=None, max_features='log2', max_leaf_nodes=None,\n",
      "            min_impurity_decrease=0.0, min_impurity_split=None,\n",
      "            min_samples_leaf=1, min_samples_split=2,\n",
      "            min_weight_fraction_leaf=0.0, n_estimators=50, n_jobs=1,\n",
      "            oob_score=False, random_state=None, verbose=0,\n",
      "            warm_start=False)\n",
      "\tAccuracy: 0.87280\tPrecision: 0.54684\tRecall: 0.26850\tF1: 0.36016\tF2: 0.29893\n",
      "\tTotal predictions: 15000\tTrue positives:  537\tFalse positives:  445\tFalse negatives: 1463\tTrue negatives: 12555\n",
      "\n"
     ]
    }
   ],
   "source": [
    "clf = RandomForestClassifier(n_estimators=50,max_features='log2')\n",
    "clf.fit(features_train,labels_train)\n",
    "test_classifier(clf,data_dict,features_list)"
   ]
  },
  {
   "cell_type": "code",
   "execution_count": 16,
   "metadata": {},
   "outputs": [
    {
     "name": "stdout",
     "output_type": "stream",
     "text": [
      "GaussianNB(priors=None)\n",
      "\tAccuracy: 0.77387\tPrecision: 0.28236\tRecall: 0.45150\tF1: 0.34744\tF2: 0.40320\n",
      "\tTotal predictions: 15000\tTrue positives:  903\tFalse positives: 2295\tFalse negatives: 1097\tTrue negatives: 10705\n",
      "\n"
     ]
    }
   ],
   "source": [
    "clf = GaussianNB()\n",
    "clf.fit(features_train,labels_train)\n",
    "test_classifier(clf,data_dict,features_list)"
   ]
  },
  {
   "cell_type": "markdown",
   "metadata": {},
   "source": [
    "#### Thus we have performed analysis on the Enron dataset classifying the employees as person of interests. Another approach which can be utilized for the same is performing text learning on the text data i.e. Enron email data."
   ]
  }
 ],
 "metadata": {
  "kernelspec": {
   "display_name": "Python 3",
   "language": "python",
   "name": "python3"
  },
  "language_info": {
   "codemirror_mode": {
    "name": "ipython",
    "version": 3
   },
   "file_extension": ".py",
   "mimetype": "text/x-python",
   "name": "python",
   "nbconvert_exporter": "python",
   "pygments_lexer": "ipython3",
   "version": "3.6.5"
  }
 },
 "nbformat": 4,
 "nbformat_minor": 2
}
